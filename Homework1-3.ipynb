{
  "nbformat": 4,
  "nbformat_minor": 0,
  "metadata": {
    "colab": {
      "name": "Homework1.ipynb",
      "provenance": []
    },
    "kernelspec": {
      "name": "python3",
      "display_name": "Python 3"
    },
    "language_info": {
      "name": "python"
    }
  },
  "cells": [
    {
      "cell_type": "code",
      "execution_count": null,
      "metadata": {
        "colab": {
          "base_uri": "https://localhost:8080/"
        },
        "id": "jrVeHsm1rpdT",
        "outputId": "2cf347f9-3081-4457-b1f3-9b1df0151ca0"
      },
      "outputs": [
        {
          "output_type": "stream",
          "name": "stdout",
          "text": [
            "What is your name? Hulisi\n",
            "What is your age? 43\n",
            "Your name is Hulisi. Your age is 43\n"
          ]
        }
      ],
      "source": [
        "#Q1-Get your name and age as input and print it in the form like\n",
        "#Your name is Hulisi. Your age is 43\n",
        "name=input('What is your name? ')\n",
        "age=input('What is your age? ')\n",
        "print()"
      ]
    },
    {
      "cell_type": "code",
      "source": [
        "#Q2-Write a if statement for a given two number is equal or not\n",
        "a=43\n",
        "b=54\n",
        "if a == b:\n",
        "    print(\"The numbers are equal.\")\n",
        "else:\n",
        "    print(\"The numbers are not equal.\")\n",
        "\n"
      ],
      "metadata": {
        "id": "7Sfg03_PuVWa",
        "colab": {
          "base_uri": "https://localhost:8080/"
        },
        "outputId": "b9547bbe-b82c-4b3d-8139-99302a0e7471"
      },
      "execution_count": 2,
      "outputs": [
        {
          "output_type": "stream",
          "name": "stdout",
          "text": [
            "The numbers are not equal.\n"
          ]
        }
      ]
    },
    {
      "cell_type": "code",
      "source": [
        "#Q3-Write a if statement for first number is greater (a), equal or less than second number.(b)\n",
        "a=43\n",
        "b=54\n",
        "if a > b:\n",
        "    print(\"The first number is greater than the second number.\")\n",
        "elif a == b:\n",
        "    print(\"The first number is equal to the second number.\")\n",
        "else:\n",
        "    print(\"The first number is less than the second number.\")\n"
      ],
      "metadata": {
        "id": "NtUibZ07u5gs",
        "colab": {
          "base_uri": "https://localhost:8080/"
        },
        "outputId": "4b30c39e-775d-46bc-de3d-6199384133a6"
      },
      "execution_count": 3,
      "outputs": [
        {
          "output_type": "stream",
          "name": "stdout",
          "text": [
            "The first number is less than the second number.\n"
          ]
        }
      ]
    },
    {
      "cell_type": "code",
      "source": [
        "#Q4- Using for loop, print 1,2,3,4,5\n",
        "for k in range(1, 6):\n",
        "    print(k, end=\", \")\n"
      ],
      "metadata": {
        "id": "U1UMQv36wNHP",
        "colab": {
          "base_uri": "https://localhost:8080/"
        },
        "outputId": "b53f02fc-cfd5-4bef-aff8-130aeedb1c1d"
      },
      "execution_count": 4,
      "outputs": [
        {
          "output_type": "stream",
          "name": "stdout",
          "text": [
            "1, 2, 3, 4, 5, "
          ]
        }
      ]
    },
    {
      "cell_type": "code",
      "source": [
        "#Q5-Using while loop, print 5,4,3,2,1\n",
        "n = 5\n",
        "while n > 0:\n",
        "    print(n, end=\", \" if n > 1 else \"\")\n",
        "    n -= 1"
      ],
      "metadata": {
        "id": "bh5Lga7XxGY8",
        "colab": {
          "base_uri": "https://localhost:8080/"
        },
        "outputId": "471a4955-9295-4c32-eea0-c8b5099dd4ea"
      },
      "execution_count": 5,
      "outputs": [
        {
          "output_type": "stream",
          "name": "stdout",
          "text": [
            "5, 4, 3, 2, 1"
          ]
        }
      ]
    },
    {
      "cell_type": "code",
      "source": [
        "#Q6- Using for loop, print 10,6,4,2,0\n",
        "#Hint Print if number is not equal to 8.\n",
        "for num in range(10, -1, -2):\n",
        "    if num != 8:\n",
        "        print(num, end=\", \" if num > 0 else \"\")"
      ],
      "metadata": {
        "id": "cXTTDS49xSoi",
        "colab": {
          "base_uri": "https://localhost:8080/"
        },
        "outputId": "bd8cb0f3-b134-4081-e2d1-600bcc2c2351"
      },
      "execution_count": 6,
      "outputs": [
        {
          "output_type": "stream",
          "name": "stdout",
          "text": [
            "10, 6, 4, 2, 0"
          ]
        }
      ]
    },
    {
      "cell_type": "code",
      "source": [
        "#Q7-Write a method to calculate age for a given date of birth year.\n",
        "#Use this method on orer to calculate age of person if date of birth is 1944\n",
        "# if age is the name of function, print(age(1944))\n",
        "from datetime import datetime\n",
        "\n",
        "def age(birth_year):\n",
        "    current_year = datetime.now().year\n",
        "    return current_year - birth_year\n",
        "print(age(1944))\n",
        "\n",
        "\n"
      ],
      "metadata": {
        "id": "geUjb-vuyYbF",
        "colab": {
          "base_uri": "https://localhost:8080/"
        },
        "outputId": "89b3bc03-8221-4bd3-ecf9-92efdb45ca3e"
      },
      "execution_count": 7,
      "outputs": [
        {
          "output_type": "stream",
          "name": "stdout",
          "text": [
            "81\n"
          ]
        }
      ]
    },
    {
      "cell_type": "code",
      "source": [
        "#Q8-Write a class named arithmetic with method for calculating addition, substraction, multiplication and division of two numbers.\n",
        "class arithmetic:\n",
        "  def addition(x,y):\n",
        "    return x+y\n",
        "arithmetic.addition(3,4)\n",
        "class Arithmetic:\n",
        "    def add(self, a, b):\n",
        "        \"\"\"Method for addition.\"\"\"\n",
        "        return a + b\n",
        "\n",
        "    def subtract(self, a, b):\n",
        "        \"\"\"Method for subtraction.\"\"\"\n",
        "        return a - b\n",
        "\n",
        "    def multiply(self, a, b):\n",
        "        \"\"\"Method for multiplication.\"\"\"\n",
        "        return a * b\n",
        "\n",
        "    def divide(self, a, b):\n",
        "        \"\"\"Method for division.\"\"\"\n",
        "        if b == 0:\n",
        "            return \"Cannot divide by zero\"\n",
        "        return a / b\n",
        "\n",
        "calc = Arithmetic()\n",
        "\n",
        "print(calc.add(10, 5))\n",
        "print(calc.subtract(10, 5))\n",
        "print(calc.multiply(10, 5))\n",
        "print(calc.divide(10, 5))"
      ],
      "metadata": {
        "id": "YcyFzE3fzC7_",
        "outputId": "d6864ccb-8851-4e33-ba0e-de35e8ff5c91",
        "colab": {
          "base_uri": "https://localhost:8080/"
        }
      },
      "execution_count": 8,
      "outputs": [
        {
          "output_type": "stream",
          "name": "stdout",
          "text": [
            "15\n",
            "5\n",
            "50\n",
            "2.0\n"
          ]
        }
      ]
    },
    {
      "cell_type": "code",
      "source": [
        "#Q9- write a for loop or method  to calculate summation of first n numbers\n",
        "#i.e if n=3, it will print or return 6 (1+2+3)\n",
        "def summation(n):\n",
        "    total = 0\n",
        "    for i in range(1, n + 1):\n",
        "        total += i\n",
        "    return total\n",
        "def summation(n):\n",
        "    return sum(range(1, n + 1))\n",
        "\n",
        "print(summation(3))"
      ],
      "metadata": {
        "id": "AUJWr5YqzadI",
        "colab": {
          "base_uri": "https://localhost:8080/"
        },
        "outputId": "b6d207d3-2dfc-44ae-cbfd-c1ae344fdf5d"
      },
      "execution_count": 9,
      "outputs": [
        {
          "output_type": "stream",
          "name": "stdout",
          "text": [
            "6\n"
          ]
        }
      ]
    },
    {
      "cell_type": "code",
      "source": [
        "#Q10-Generate 10 numbers between 0 and 1 and add into list. Print first three elements of that list.\n",
        "import random\n",
        "\n",
        "\n",
        "random_numbers = [random.random() for _ in range(10)]\n",
        "\n",
        "\n",
        "print(random_numbers[:3])"
      ],
      "metadata": {
        "id": "hmtvJdCL02qx",
        "colab": {
          "base_uri": "https://localhost:8080/"
        },
        "outputId": "c2832581-de59-4c33-ab35-e84ac4c30b4f"
      },
      "execution_count": 10,
      "outputs": [
        {
          "output_type": "stream",
          "name": "stdout",
          "text": [
            "[0.5845152829918759, 0.6260148918225242, 0.8835160143369446]\n"
          ]
        }
      ]
    },
    {
      "cell_type": "code",
      "source": [
        "#Q11-For a given number n, print numbers divisible by 3 up to that number(n included)\n",
        "#Example: if n=15, print 3,6,9,12,15\n",
        "#Hint you can use modulus statement (if (i%3==0))\n",
        "\n",
        "n = 15\n",
        "\n",
        "for i in range(1, n + 1):\n",
        "    if i % 3 == 0:\n",
        "        print(i, end=' ')\n",
        "\n"
      ],
      "metadata": {
        "id": "5O6Y2CujcAAs",
        "outputId": "37993648-7e89-4d38-accb-e70c3380ec18",
        "colab": {
          "base_uri": "https://localhost:8080/"
        }
      },
      "execution_count": 11,
      "outputs": [
        {
          "output_type": "stream",
          "name": "stdout",
          "text": [
            "3 6 9 12 15 "
          ]
        }
      ]
    },
    {
      "cell_type": "code",
      "source": [],
      "metadata": {
        "id": "yizcFrBOPISW"
      },
      "execution_count": null,
      "outputs": []
    }
  ]
}